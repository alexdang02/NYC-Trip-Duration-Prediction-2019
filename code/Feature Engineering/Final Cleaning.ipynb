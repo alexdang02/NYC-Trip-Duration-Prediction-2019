{
 "cells": [
  {
   "cell_type": "code",
   "execution_count": 1,
   "source": [
    "import os\n",
    "import pyspark\n",
    "import pyspark.sql.functions as F\n",
    "root_folder = \"/home/trungdc/unimelb/MAST30024/asm/mast30034_2021_s2_project_1-alexdang02-1\"\n",
    "data_dir = os.path.join(root_folder, \"Data\")\n",
    "SQLOutput_dir = os.path.join(root_folder, \"code/SparkSQL_Output\")\n",
    "plot_dir = os.path.join(root_folder, \"Plots\")"
   ],
   "outputs": [],
   "metadata": {}
  },
  {
   "cell_type": "code",
   "execution_count": 2,
   "source": [
    "import pyspark.sql.functions as F\n",
    "from pyspark.sql.functions import *\n",
    "from pyspark.sql.types import *"
   ],
   "outputs": [],
   "metadata": {}
  },
  {
   "cell_type": "code",
   "execution_count": 3,
   "source": [
    "from pyspark.sql import SparkSession\n",
    "import warnings\n",
    "warnings.filterwarnings(\"ignore\")\n",
    "\n",
    "spark = SparkSession.builder.getOrCreate()"
   ],
   "outputs": [],
   "metadata": {}
  },
  {
   "cell_type": "code",
   "execution_count": 4,
   "source": [
    "def weekend(dayofweek):\n",
    "  if   dayofweek <= 5: \n",
    "      return 0\n",
    "  else:\n",
    "      return 1\n",
    "udfWeekendFunc = F.udf(weekend, IntegerType())\n",
    "\n",
    "def workingHour(hour, weekend):\n",
    "    if weekend <= 5:\n",
    "        if 7 <= hour <= 19:\n",
    "            return 1\n",
    "        else:\n",
    "            return 0\n",
    "    else:\n",
    "        return 0\n",
    "udfworkingHour = F.udf(workingHour, IntegerType())"
   ],
   "outputs": [],
   "metadata": {}
  },
  {
   "cell_type": "code",
   "execution_count": 6,
   "source": [
    "def preprocess(sdf):\n",
    "    sdf = sdf.withColumnRenamed(\"duration(m)\", \"duration\")  \\\n",
    "    .withColumnRenamed('expected_total_distance(miles)', \"expected_total_distance\") \\\n",
    "    .withColumnRenamed('expected_total_duration(s)', \"expected_total_duration\") \n",
    "    sdf = sdf.withColumn(\"expected_total_duration\", sdf.expected_total_duration/60)\n",
    "    sdf = sdf.filter(sdf.passenger_count <= 6) \\\n",
    "        .filter(sdf.PULocationID != sdf.DOLocationID) \\\n",
    "        .filter( ~ ((sdf.RatecodeID == 2) & (sdf.fare_amount <= 50))) \\\n",
    "        .filter(sdf.duration < 500) \\\n",
    "        .filter(sdf.total_amount >= 2.5) \\\n",
    "        .filter(sdf.tolls_amount >= 0) \\\n",
    "        .filter(sdf.VendorID.isin([1,2])) \\\n",
    "        .filter(sdf.RatecodeID.isin([1,2])) \\\n",
    "        .filter(sdf.payment_type.isin([1,2])) \\\n",
    "        .filter(sdf.tip_amount <= 25) \\\n",
    "    .withColumn(\"DayofWeek\", dayofweek(sdf.tpep_pickup_datetime))   \\\n",
    "    .withColumn(\"Weekend\", udfWeekendFunc(col(\"DayofWeek\"))) \\\n",
    "    .withColumn(\"Month\", month(sdf.tpep_pickup_datetime))   \\\n",
    "    .withColumn(\"Hour\", hour(sdf.tpep_pickup_datetime)) \n",
    "\n",
    "    sdf = sdf.withColumn(\"WorkingHour\", udfworkingHour(col(\"Hour\"), col(\"DayofWeek\"))) \\\n",
    "    .withColumn(\"trip_distance\",F.when(sdf.trip_distance==0, sdf.expected_total_distance).otherwise(sdf.trip_distance)) \\\n",
    "    .withColumn(\"passenger_count\", F.when(sdf.passenger_count==0, 1).when(sdf.passenger_count==6, 5).otherwise(sdf.passenger_count)) \\\n",
    "    .withColumn(\"tip_amount\", F.when(sdf.tip_amount<0, 0).otherwise(sdf.tip_amount)) \\\n",
    "    .withColumn(\"fare_amount\", F.when(sdf.fare_amount<2.5, 2.5).otherwise(sdf.fare_amount)) \\\n",
    "    .drop(\"expected_total_distance\", \"expected_total_duration\", \"tpep_pickup_datetime\")\n",
    "    return sdf\n",
    "\n",
    "sdf = spark.read.format(\"csv\").option(\"header\", \"true\").option(\"inferSchema\", \"true\").load(os.path.join(data_dir,\"Merge\", \"train.csv\"))\n",
    "sdf = preprocess(sdf)\n",
    "sdf.createOrReplaceTempView(\"trip\")\n",
    "sdf.limit(5)"
   ],
   "outputs": [
    {
     "output_type": "execute_result",
     "data": {
      "text/plain": [
       "DataFrame[VendorID: int, passenger_count: int, trip_distance: double, RatecodeID: int, PULocationID: int, DOLocationID: int, payment_type: int, fare_amount: double, extra: double, mta_tax: double, tip_amount: double, tolls_amount: double, improvement_surcharge: double, total_amount: double, duration: double, tempMax: double, tempMin: double, tempAvg: double, tempDeparture: double, hdd: double, cdd: double, precipitation: double, newSnow: double, snowDepth: double, DayofWeek: int, Weekend: int, Month: int, Hour: int, WorkingHour: int]"
      ]
     },
     "metadata": {},
     "execution_count": 6
    }
   ],
   "metadata": {}
  },
  {
   "cell_type": "code",
   "execution_count": 8,
   "source": [
    "for col in sdf.dtypes:\n",
    "    print((col[0], col[1]))"
   ],
   "outputs": [
    {
     "output_type": "stream",
     "name": "stdout",
     "text": [
      "('VendorID', 'int')\n",
      "('passenger_count', 'int')\n",
      "('trip_distance', 'double')\n",
      "('RatecodeID', 'int')\n",
      "('PULocationID', 'int')\n",
      "('DOLocationID', 'int')\n",
      "('payment_type', 'int')\n",
      "('fare_amount', 'double')\n",
      "('extra', 'double')\n",
      "('mta_tax', 'double')\n",
      "('tip_amount', 'double')\n",
      "('tolls_amount', 'double')\n",
      "('improvement_surcharge', 'double')\n",
      "('total_amount', 'double')\n",
      "('duration', 'double')\n",
      "('tempMax', 'double')\n",
      "('tempMin', 'double')\n",
      "('tempAvg', 'double')\n",
      "('tempDeparture', 'double')\n",
      "('hdd', 'double')\n",
      "('cdd', 'double')\n",
      "('precipitation', 'double')\n",
      "('newSnow', 'double')\n",
      "('snowDepth', 'double')\n",
      "('DayofWeek', 'int')\n",
      "('Weekend', 'int')\n",
      "('Month', 'int')\n",
      "('Hour', 'int')\n",
      "('WorkingHour', 'int')\n"
     ]
    }
   ],
   "metadata": {}
  },
  {
   "cell_type": "code",
   "execution_count": null,
   "source": [],
   "outputs": [],
   "metadata": {}
  }
 ],
 "metadata": {
  "orig_nbformat": 4,
  "language_info": {
   "name": "python",
   "version": "3.7.11",
   "mimetype": "text/x-python",
   "codemirror_mode": {
    "name": "ipython",
    "version": 3
   },
   "pygments_lexer": "ipython3",
   "nbconvert_exporter": "python",
   "file_extension": ".py"
  },
  "kernelspec": {
   "name": "python3",
   "display_name": "Python 3.7.11 64-bit ('mast30024asm1': conda)"
  },
  "interpreter": {
   "hash": "3ee96da6bb92bbf5b9d339a3dfb1419b22df50abca65b46f31ce3f2043457e99"
  }
 },
 "nbformat": 4,
 "nbformat_minor": 2
}