{
 "cells": [
  {
   "cell_type": "code",
   "execution_count": 4,
   "source": [
    "import os\n",
    "from os.path import getsize\n",
    "from urllib.request import urlretrieve"
   ],
   "outputs": [],
   "metadata": {}
  },
  {
   "cell_type": "code",
   "execution_count": null,
   "source": [
    "data_dir = \"/home/trungdc/unimelb/MAST30024/asm/mast30034_2021_s2_project_1-alexdang02-1/Data/Trip\"\n",
    "os.chdir(data_dir)"
   ],
   "outputs": [],
   "metadata": {}
  },
  {
   "cell_type": "markdown",
   "source": [
    "## Download 2019 data"
   ],
   "metadata": {}
  },
  {
   "cell_type": "code",
   "execution_count": null,
   "source": [
    "year = 2018,2019\n",
    "for vehicle_type in [\"yellow\", \"green\"]:\n",
    "    for month in [\"01\", \"02\",\"03\", \"04\",\"05\", \"06\",\"07\", \"08\",\"09\", \"10\",\"11\", \"12\"]:\n",
    "        out_file_name = f\"{vehicle_type}_tripdata_{year}-{month}.csv\"\n",
    "        print(url_format)\n",
    "        url_format = f\"https://s3.amazonaws.com/nyc-tlc/trip+data/{vehicle_type}_tripdata_{year}-{month}.csv\"\n",
    "        output_dir = os.path.join(data_dir, vehicle_type)\n",
    "        urlretrieve(url_format, f\"{output_dir}/{out_file_name}\")\n",
    "        print(f\"Done downloading {out_file_name} with size {getsize(f'{output_dir}/{out}') / 1073741824:.2f}GB\")"
   ],
   "outputs": [
    {
     "output_type": "stream",
     "name": "stdout",
     "text": [
      "https://s3.amazonaws.com/nyc-tlc/trip+data/yellowm_tripdata_2019-02.csv\n"
     ]
    }
   ],
   "metadata": {}
  }
 ],
 "metadata": {
  "kernelspec": {
   "display_name": "Python 3.8.8 64-bit ('base': conda)",
   "language": "python",
   "name": "python388jvsc74a57bd01215be03c6a384fd0c13ae260032b5cecd2602ebb104c14aacb1d332b12e19c7"
  },
  "language_info": {
   "codemirror_mode": {
    "name": "ipython",
    "version": 3
   },
   "file_extension": ".py",
   "mimetype": "text/x-python",
   "name": "python",
   "nbconvert_exporter": "python",
   "pygments_lexer": "ipython3",
   "version": "3.8.8"
  },
  "varInspector": {
   "cols": {
    "lenName": 16,
    "lenType": 16,
    "lenVar": 40
   },
   "kernels_config": {
    "python": {
     "delete_cmd_postfix": "",
     "delete_cmd_prefix": "del ",
     "library": "var_list.py",
     "varRefreshCmd": "print(var_dic_list())"
    },
    "r": {
     "delete_cmd_postfix": ") ",
     "delete_cmd_prefix": "rm(",
     "library": "var_list.r",
     "varRefreshCmd": "cat(var_dic_list()) "
    }
   },
   "types_to_exclude": [
    "module",
    "function",
    "builtin_function_or_method",
    "instance",
    "_Feature"
   ],
   "window_display": false
  }
 },
 "nbformat": 4,
 "nbformat_minor": 5
}