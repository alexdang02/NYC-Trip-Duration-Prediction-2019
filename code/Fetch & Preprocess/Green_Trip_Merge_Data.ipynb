{
 "cells": [
  {
   "cell_type": "code",
   "execution_count": 2,
   "source": [
    "import pyspark\n",
    "import os\n",
    "import shutil\n",
    "root_folder = \"/home/trungdc/unimelb/MAST30024/asm/project 1/\"\n",
    "data_dir = os.path.join(root_folder, \"Data/Trip\")\n",
    "\n",
    "\n",
    "import pyspark.sql.functions as F\n",
    "\n",
    "from pyspark.sql.functions import col\n",
    "from pyspark.sql.types import *"
   ],
   "outputs": [],
   "metadata": {}
  },
  {
   "cell_type": "code",
   "execution_count": 2,
   "source": [
    "from pyspark.sql import SparkSession\n",
    "import warnings\n",
    "warnings.filterwarnings(\"ignore\")\n",
    "spark = SparkSession.builder.getOrCreate()\n",
    "spark.conf.set('spark.sql.execution.arrow.pyspark.enabled', True)"
   ],
   "outputs": [],
   "metadata": {}
  },
  {
   "cell_type": "markdown",
   "source": [
    "Download green trip record (Month: 2,4,6,8,10,12) to folder: Data/Green"
   ],
   "metadata": {}
  },
  {
   "cell_type": "code",
   "execution_count": 4,
   "source": [
    "sdf = spark.read.format(\"csv\").option(\"header\", \"true\").load(os.path.join(data_dir,\"Green\",\"*.csv\"))\n",
    "spark.conf.set('spark.sql.execution.arrow.pyspark.enabled', True)\n",
    "spark.conf.set('spark.sql.repl.eagerEval.enabled', True)\n",
    "sdf.createOrReplaceTempView(\"trip\")\n",
    "sdf.limit(5)"
   ],
   "outputs": [
    {
     "output_type": "execute_result",
     "data": {
      "text/plain": [
       "+--------+--------------------+---------------------+------------------+----------+------------+------------+---------------+-------------+-----------+-----+-------+----------+------------+---------+---------------------+------------+------------+---------+\n",
       "|VendorID|lpep_pickup_datetime|lpep_dropoff_datetime|store_and_fwd_flag|RatecodeID|PULocationID|DOLocationID|passenger_count|trip_distance|fare_amount|extra|mta_tax|tip_amount|tolls_amount|ehail_fee|improvement_surcharge|total_amount|payment_type|trip_type|\n",
       "+--------+--------------------+---------------------+------------------+----------+------------+------------+---------------+-------------+-----------+-----+-------+----------+------------+---------+---------------------+------------+------------+---------+\n",
       "|       2| 2018-02-01 00:39:38|  2018-02-01 00:39:41|                 N|         5|          97|          65|              1|          .00|         20|    0|      0|         3|           0|     null|                    0|          23|           1|        2|\n",
       "|       2| 2018-02-01 00:58:28|  2018-02-01 01:05:35|                 N|         1|         256|          80|              5|         1.60|        7.5|  0.5|    0.5|      0.88|           0|     null|                  0.3|        9.68|           1|        1|\n",
       "|       2| 2018-02-01 00:56:05|  2018-02-01 01:18:54|                 N|         1|          25|          95|              1|         9.60|       28.5|  0.5|    0.5|      5.96|           0|     null|                  0.3|       35.76|           1|        1|\n",
       "|       2| 2018-02-01 00:12:40|  2018-02-01 00:15:50|                 N|         1|          61|          61|              1|          .73|        4.5|  0.5|    0.5|         0|           0|     null|                  0.3|         5.8|           2|        1|\n",
       "|       2| 2018-02-01 00:45:18|  2018-02-01 00:51:56|                 N|         1|          65|          17|              2|         1.87|          8|  0.5|    0.5|         0|           0|     null|                  0.3|         9.3|           2|        1|\n",
       "+--------+--------------------+---------------------+------------------+----------+------------+------------+---------------+-------------+-----------+-----+-------+----------+------------+---------+---------------------+------------+------------+---------+"
      ],
      "text/html": [
       "<table border='1'>\n",
       "<tr><th>VendorID</th><th>lpep_pickup_datetime</th><th>lpep_dropoff_datetime</th><th>store_and_fwd_flag</th><th>RatecodeID</th><th>PULocationID</th><th>DOLocationID</th><th>passenger_count</th><th>trip_distance</th><th>fare_amount</th><th>extra</th><th>mta_tax</th><th>tip_amount</th><th>tolls_amount</th><th>ehail_fee</th><th>improvement_surcharge</th><th>total_amount</th><th>payment_type</th><th>trip_type</th></tr>\n",
       "<tr><td>2</td><td>2018-02-01 00:39:38</td><td>2018-02-01 00:39:41</td><td>N</td><td>5</td><td>97</td><td>65</td><td>1</td><td>.00</td><td>20</td><td>0</td><td>0</td><td>3</td><td>0</td><td>null</td><td>0</td><td>23</td><td>1</td><td>2</td></tr>\n",
       "<tr><td>2</td><td>2018-02-01 00:58:28</td><td>2018-02-01 01:05:35</td><td>N</td><td>1</td><td>256</td><td>80</td><td>5</td><td>1.60</td><td>7.5</td><td>0.5</td><td>0.5</td><td>0.88</td><td>0</td><td>null</td><td>0.3</td><td>9.68</td><td>1</td><td>1</td></tr>\n",
       "<tr><td>2</td><td>2018-02-01 00:56:05</td><td>2018-02-01 01:18:54</td><td>N</td><td>1</td><td>25</td><td>95</td><td>1</td><td>9.60</td><td>28.5</td><td>0.5</td><td>0.5</td><td>5.96</td><td>0</td><td>null</td><td>0.3</td><td>35.76</td><td>1</td><td>1</td></tr>\n",
       "<tr><td>2</td><td>2018-02-01 00:12:40</td><td>2018-02-01 00:15:50</td><td>N</td><td>1</td><td>61</td><td>61</td><td>1</td><td>.73</td><td>4.5</td><td>0.5</td><td>0.5</td><td>0</td><td>0</td><td>null</td><td>0.3</td><td>5.8</td><td>2</td><td>1</td></tr>\n",
       "<tr><td>2</td><td>2018-02-01 00:45:18</td><td>2018-02-01 00:51:56</td><td>N</td><td>1</td><td>65</td><td>17</td><td>2</td><td>1.87</td><td>8</td><td>0.5</td><td>0.5</td><td>0</td><td>0</td><td>null</td><td>0.3</td><td>9.3</td><td>2</td><td>1</td></tr>\n",
       "</table>\n"
      ]
     },
     "metadata": {},
     "execution_count": 4
    }
   ],
   "metadata": {}
  },
  {
   "cell_type": "code",
   "execution_count": 5,
   "source": [
    "sql_query = \"\"\"\n",
    "SELECT *\n",
    "FROM trip\n",
    "ORDER BY \"tpep_pickup_datetime\"\n",
    "\"\"\"\n",
    "out = spark.sql(sql_query)\n",
    "out.head()"
   ],
   "outputs": [
    {
     "output_type": "execute_result",
     "data": {
      "text/plain": [
       "Row(VendorID='2', lpep_pickup_datetime='2018-02-01 00:39:38', lpep_dropoff_datetime='2018-02-01 00:39:41', store_and_fwd_flag='N', RatecodeID='5', PULocationID='97', DOLocationID='65', passenger_count='1', trip_distance='.00', fare_amount='20', extra='0', mta_tax='0', tip_amount='3', tolls_amount='0', ehail_fee=None, improvement_surcharge='0', total_amount='23', payment_type='1', trip_type='2')"
      ]
     },
     "metadata": {},
     "execution_count": 5
    }
   ],
   "metadata": {}
  },
  {
   "cell_type": "code",
   "execution_count": 7,
   "source": [
    "print((sdf.count(), len(sdf.columns)))"
   ],
   "outputs": [
    {
     "output_type": "stream",
     "name": "stdout",
     "text": [
      "(7309493, 19)\n"
     ]
    }
   ],
   "metadata": {}
  },
  {
   "cell_type": "markdown",
   "source": [],
   "metadata": {}
  },
  {
   "cell_type": "code",
   "execution_count": 8,
   "source": [
    "out.repartition(1).write.csv(os.path.join(data_dir,\"green.csv\"), header=True)"
   ],
   "outputs": [],
   "metadata": {}
  },
  {
   "cell_type": "code",
   "execution_count": 3,
   "source": [
    "for file in os.listdir(os.path.join(data_dir, \"green.csv\")):\n",
    "    if file.endswith(\".csv\"):\n",
    "        os.rename(os.path.join(data_dir, \"green.csv\", file), os.path.join(data_dir, \"green_concat.csv\"))\n",
    "shutil.rmtree(os.path.join(data_dir, \"green.csv\"))"
   ],
   "outputs": [],
   "metadata": {}
  },
  {
   "cell_type": "code",
   "execution_count": null,
   "source": [],
   "outputs": [],
   "metadata": {}
  }
 ],
 "metadata": {
  "orig_nbformat": 4,
  "language_info": {
   "name": "python",
   "version": "3.7.11",
   "mimetype": "text/x-python",
   "codemirror_mode": {
    "name": "ipython",
    "version": 3
   },
   "pygments_lexer": "ipython3",
   "nbconvert_exporter": "python",
   "file_extension": ".py"
  },
  "kernelspec": {
   "name": "python3",
   "display_name": "Python 3.7.11 64-bit ('mast30024asm1': conda)"
  },
  "interpreter": {
   "hash": "3ee96da6bb92bbf5b9d339a3dfb1419b22df50abca65b46f31ce3f2043457e99"
  }
 },
 "nbformat": 4,
 "nbformat_minor": 2
}