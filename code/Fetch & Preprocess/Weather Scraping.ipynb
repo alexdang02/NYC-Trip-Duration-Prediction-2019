{
 "cells": [
  {
   "cell_type": "markdown",
   "source": [
    "### Prerequisite:Download Firefox Geckodriver -> Copy the executable to /usr/local/bin"
   ],
   "metadata": {}
  },
  {
   "cell_type": "code",
   "execution_count": null,
   "source": [
    "from selenium import webdriver\n",
    "from selenium.webdriver.common.keys import Keys\n",
    "import os\n",
    "import time\n",
    "root_folder = \"/home/trungdc/unimelb/MAST30024/asm/project 1\"\n",
    "data_dir = os.path.join(root_folder, \"Data\")"
   ],
   "outputs": [],
   "metadata": {}
  },
  {
   "cell_type": "code",
   "execution_count": null,
   "source": [
    "driver = webdriver.Firefox()\n",
    "url = 'https://nowdata.rcc-acis.org/okx/'\n",
    "driver.get(url)\n",
    "\n",
    "time.sleep(5)\n",
    "\n",
    "datePicker = driver.find_element_by_id(\"tDatepicker\")\n",
    "locationSelect = driver.find_element_by_name(\"station\")\n",
    "goButton = driver.find_element_by_id(\"go\")\n",
    "results = driver.find_element_by_id(\"results_area\")\n",
    "calenderButton = driver.find_element_by_class_name(\"ui-datepicker-trigger\")\n",
    "\n",
    "data = {}\n",
    "columns = [\"date\", \"tempMax\", \"tempMin\", \"tempAvg\", \"tempDeparture\",\n",
    "           \"hdd\", \"cdd\", \"precipitation\", \"newSnow\", \"snowDepth\"]\n",
    "options = locationSelect.find_elements_by_css_selector(\"option\")\n",
    "for year in range(2018, 2020):\n",
    "    for i in range(1, 13):\n",
    "        month = str(i)\n",
    "        if i < 10:\n",
    "            month = \"0\" + str(i)\n",
    "\n",
    "        datePicker.clear()\n",
    "        datePicker.send_keys(str(year) + \"-\" + month)\n",
    "        webdriver.ActionChains(driver).send_keys(Keys.TAB).perform()\n",
    "        time.sleep(0.5)\n",
    "\n",
    "        dateData = {}\n",
    "        for optionId in range(len(options)):\n",
    "            option = options[optionId]\n",
    "            stationData = []\n",
    "            try:\n",
    "                option.click()\n",
    "                goButton.click()\n",
    "                time.sleep(5)\n",
    "\n",
    "                table = results.find_element_by_css_selector('table')\n",
    "                body = results.find_element_by_css_selector('tbody')\n",
    "                rows = body.find_elements_by_css_selector('tr')\n",
    "                for row in rows:\n",
    "                    tds = row.find_elements_by_css_selector('td')\n",
    "                    rowData = {}\n",
    "                    for tdId in range(len(tds)):\n",
    "                        td = tds[tdId]\n",
    "                        rowData[columns[tdId]] = td.text\n",
    "                    stationData.append(rowData)\n",
    "                dateData[option.text] = stationData\n",
    "            except Exception as e:\n",
    "                print(e)\n",
    "                print('Error! with ' + str(year) + \"-\" +\n",
    "                      month + \" and \" + option.text)\n",
    "            webdriver.ActionChains(driver).send_keys(Keys.ESCAPE).perform()\n",
    "            time.sleep(0.5)\n",
    "            webdriver.ActionChains(driver).send_keys(Keys.ESCAPE).perform()\n",
    "            time.sleep(0.5)\n",
    "            webdriver.ActionChains(driver).send_keys(Keys.ESCAPE).perform()\n",
    "            time.sleep(0.5)\n",
    "            webdriver.ActionChains(driver).send_keys(Keys.ESCAPE).perform()\n",
    "            time.sleep(0.5)\n",
    "\n",
    "        data[str(year) + \"-\" + month] = dateData\n",
    "        f = open(os.path.join(root_folder,\"01-2018 to 01-2019.txt\"), \"a\")\n",
    "        f.write(str(dateData))\n",
    "        f.close()\n",
    "\n",
    "driver.close()\n"
   ],
   "outputs": [],
   "metadata": {}
  }
 ],
 "metadata": {
  "orig_nbformat": 4,
  "language_info": {
   "name": "python"
  }
 },
 "nbformat": 4,
 "nbformat_minor": 2
}