{
 "cells": [
  {
   "cell_type": "code",
   "execution_count": 10,
   "source": [
    "import pyspark\n",
    "import os\n",
    "import shutil\n",
    "root_folder = \"/home/trungdc/unimelb/MAST30024/asm/project 1/\"\n",
    "data_dir = os.path.join(root_folder, \"Data/Trip\")\n",
    "\n",
    "\n",
    "import pyspark.sql.functions as F\n",
    "\n",
    "from pyspark.sql.functions import col\n",
    "from pyspark.sql.types import *"
   ],
   "outputs": [],
   "metadata": {}
  },
  {
   "cell_type": "code",
   "execution_count": 2,
   "source": [
    "from pyspark.sql import SparkSession\n",
    "import warnings\n",
    "warnings.filterwarnings(\"ignore\")\n",
    "spark = SparkSession.builder.getOrCreate()\n",
    "spark.conf.set('spark.sql.execution.arrow.pyspark.enabled', True)"
   ],
   "outputs": [],
   "metadata": {}
  },
  {
   "cell_type": "markdown",
   "source": [
    "# Download yellow trip record (Month: 2,4,6,8,10,12) to folder: Data/Yellow"
   ],
   "metadata": {}
  },
  {
   "cell_type": "code",
   "execution_count": 3,
   "source": [
    "sdf = spark.read.format(\"csv\").option(\"header\", \"true\").load(os.path.join(data_dir,\"Yellow\",\"*.csv\"))"
   ],
   "outputs": [],
   "metadata": {}
  },
  {
   "cell_type": "code",
   "execution_count": 14,
   "source": [
    "spark.conf.set('spark.sql.execution.arrow.pyspark.enabled', True)\n",
    "spark.conf.set('spark.sql.repl.eagerEval.enabled', True)\n",
    "sdf.createOrReplaceTempView(\"trip\")\n",
    "sdf.limit(5)"
   ],
   "outputs": [
    {
     "output_type": "execute_result",
     "data": {
      "text/plain": [
       "+--------+--------------------+---------------------+---------------+-------------+----------+------------------+------------+------------+------------+-----------+-----+-------+----------+------------+---------------------+------------+\n",
       "|VendorID|tpep_pickup_datetime|tpep_dropoff_datetime|passenger_count|trip_distance|RatecodeID|store_and_fwd_flag|PULocationID|DOLocationID|payment_type|fare_amount|extra|mta_tax|tip_amount|tolls_amount|improvement_surcharge|total_amount|\n",
       "+--------+--------------------+---------------------+---------------+-------------+----------+------------------+------------+------------+------------+-----------+-----+-------+----------+------------+---------------------+------------+\n",
       "|       1| 2018-02-01 00:01:58|  2018-02-01 00:04:03|              1|          .00|         1|                 N|         145|         145|           2|        3.5|  0.5|    0.5|         0|           0|                  0.3|         4.8|\n",
       "|       1| 2018-02-01 00:56:48|  2018-02-01 00:57:42|              1|         2.90|         1|                 N|         145|         145|           2|        2.5|  0.5|    0.5|         0|           0|                  0.3|         3.8|\n",
       "|       1| 2018-02-01 00:04:42|  2018-02-01 00:19:32|              1|         5.80|         1|                 N|         236|         119|           2|       18.5|  0.5|    0.5|         0|           0|                  0.3|        19.8|\n",
       "|       1| 2018-02-01 00:38:10|  2018-02-01 00:40:16|              1|          .30|         1|                 N|          82|          82|           2|        3.5|  0.5|    0.5|         0|           0|                  0.3|         4.8|\n",
       "|       1| 2018-02-01 00:43:03|  2018-02-01 00:59:26|              2|         2.60|         1|                 N|          82|           7|           1|         13|  0.5|    0.5|         1|           0|                  0.3|        15.3|\n",
       "+--------+--------------------+---------------------+---------------+-------------+----------+------------------+------------+------------+------------+-----------+-----+-------+----------+------------+---------------------+------------+"
      ],
      "text/html": [
       "<table border='1'>\n",
       "<tr><th>VendorID</th><th>tpep_pickup_datetime</th><th>tpep_dropoff_datetime</th><th>passenger_count</th><th>trip_distance</th><th>RatecodeID</th><th>store_and_fwd_flag</th><th>PULocationID</th><th>DOLocationID</th><th>payment_type</th><th>fare_amount</th><th>extra</th><th>mta_tax</th><th>tip_amount</th><th>tolls_amount</th><th>improvement_surcharge</th><th>total_amount</th></tr>\n",
       "<tr><td>1</td><td>2018-02-01 00:01:58</td><td>2018-02-01 00:04:03</td><td>1</td><td>.00</td><td>1</td><td>N</td><td>145</td><td>145</td><td>2</td><td>3.5</td><td>0.5</td><td>0.5</td><td>0</td><td>0</td><td>0.3</td><td>4.8</td></tr>\n",
       "<tr><td>1</td><td>2018-02-01 00:56:48</td><td>2018-02-01 00:57:42</td><td>1</td><td>2.90</td><td>1</td><td>N</td><td>145</td><td>145</td><td>2</td><td>2.5</td><td>0.5</td><td>0.5</td><td>0</td><td>0</td><td>0.3</td><td>3.8</td></tr>\n",
       "<tr><td>1</td><td>2018-02-01 00:04:42</td><td>2018-02-01 00:19:32</td><td>1</td><td>5.80</td><td>1</td><td>N</td><td>236</td><td>119</td><td>2</td><td>18.5</td><td>0.5</td><td>0.5</td><td>0</td><td>0</td><td>0.3</td><td>19.8</td></tr>\n",
       "<tr><td>1</td><td>2018-02-01 00:38:10</td><td>2018-02-01 00:40:16</td><td>1</td><td>.30</td><td>1</td><td>N</td><td>82</td><td>82</td><td>2</td><td>3.5</td><td>0.5</td><td>0.5</td><td>0</td><td>0</td><td>0.3</td><td>4.8</td></tr>\n",
       "<tr><td>1</td><td>2018-02-01 00:43:03</td><td>2018-02-01 00:59:26</td><td>2</td><td>2.60</td><td>1</td><td>N</td><td>82</td><td>7</td><td>1</td><td>13</td><td>0.5</td><td>0.5</td><td>1</td><td>0</td><td>0.3</td><td>15.3</td></tr>\n",
       "</table>\n"
      ]
     },
     "metadata": {},
     "execution_count": 14
    }
   ],
   "metadata": {}
  },
  {
   "cell_type": "code",
   "execution_count": 11,
   "source": [
    "print((sdf.count(), len(sdf.columns)))"
   ],
   "outputs": [
    {
     "output_type": "stream",
     "name": "stdout",
     "text": [
      "(92931995, 17)\n"
     ]
    }
   ],
   "metadata": {}
  },
  {
   "cell_type": "code",
   "execution_count": 15,
   "source": [
    "sql_query = \"\"\"\n",
    "SELECT *\n",
    "FROM trip\n",
    "ORDER BY \"tpep_pickup_datetime\"\n",
    "\"\"\"\n",
    "out = spark.sql(sql_query)\n",
    "out.head()"
   ],
   "outputs": [
    {
     "output_type": "execute_result",
     "data": {
      "text/plain": [
       "Row(VendorID='1', tpep_pickup_datetime='2018-02-01 00:01:58', tpep_dropoff_datetime='2018-02-01 00:04:03', passenger_count='1', trip_distance='.00', RatecodeID='1', store_and_fwd_flag='N', PULocationID='145', DOLocationID='145', payment_type='2', fare_amount='3.5', extra='0.5', mta_tax='0.5', tip_amount='0', tolls_amount='0', improvement_surcharge='0.3', total_amount='4.8')"
      ]
     },
     "metadata": {},
     "execution_count": 15
    }
   ],
   "metadata": {}
  },
  {
   "cell_type": "code",
   "execution_count": 16,
   "source": [
    "out.repartition(1).write.csv(os.path.join(data_dir,\"yellow.csv\"), header=True)"
   ],
   "outputs": [],
   "metadata": {}
  },
  {
   "cell_type": "code",
   "execution_count": 11,
   "source": [
    "# reorder foldter and file\n",
    "for file in os.listdir(os.path.join(data_dir, \"yellow.csv\")):\n",
    "    if file.endswith(\".csv\"):\n",
    "        os.rename(os.path.join(data_dir, \"yellow.csv\", file), os.path.join(data_dir, \"yellow_concat.csv\"))\n",
    "shutil.rmtree(os.path.join(data_dir, \"yellow.csv\"))"
   ],
   "outputs": [],
   "metadata": {}
  }
 ],
 "metadata": {
  "orig_nbformat": 4,
  "language_info": {
   "name": "python",
   "version": "3.7.11",
   "mimetype": "text/x-python",
   "codemirror_mode": {
    "name": "ipython",
    "version": 3
   },
   "pygments_lexer": "ipython3",
   "nbconvert_exporter": "python",
   "file_extension": ".py"
  },
  "kernelspec": {
   "name": "python3",
   "display_name": "Python 3.7.11 64-bit ('mast30024asm1': conda)"
  },
  "interpreter": {
   "hash": "3ee96da6bb92bbf5b9d339a3dfb1419b22df50abca65b46f31ce3f2043457e99"
  }
 },
 "nbformat": 4,
 "nbformat_minor": 2
}