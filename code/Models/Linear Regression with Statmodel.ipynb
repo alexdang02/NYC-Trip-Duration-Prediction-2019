{
 "cells": [
  {
   "cell_type": "markdown",
   "source": [
    "___________________"
   ],
   "metadata": {}
  },
  {
   "cell_type": "markdown",
   "source": [
    "# Partial of this code is extracted from Akira Wang Python Repository for MAST30024"
   ],
   "metadata": {}
  },
  {
   "cell_type": "code",
   "execution_count": 3,
   "source": [
    "import matplotlib.pyplot as plt\n",
    "import numpy as np\n",
    "import pandas as pd\n",
    "import os\n",
    "import warnings\n",
    "\n",
    "from statsmodels.formula.api import *\n",
    "root_folder = \"/home/trungdc/unimelb/MAST30024/asm/mast30034_2021_s2_project_1-alexdang02-1\"\n",
    "data_dir = os.path.join(root_folder, \"Data\")\n",
    "SQLOutput_dir = os.path.join(root_folder, \"code/SparkSQL_Output\")\n",
    "plot_dir = os.path.join(root_folder, \"Plots\")\n",
    "warnings.filterwarnings(\"ignore\")"
   ],
   "outputs": [],
   "metadata": {}
  },
  {
   "cell_type": "code",
   "execution_count": null,
   "source": [
    "# os.chdir()\n",
    "df = pd.read_csv(\"/home/trungdc/unimelb/MAST30024/asm/mast30034_2021_s2_project_1-alexdang02-1/Data/Model/train1.csv\")\n",
    "df.drop(\"Key\", inplace=True, axis=1)\n",
    "pd.set_option('display.max_columns', 500)\n",
    "\n",
    "\n",
    "xtrain = df[['passenger_count', 'trip_distance', 'RatecodeID', 'PULocationID',\n",
    "       'DOLocationID', 'payment_type', 'fare_amount', 'extra', 'mta_tax',\n",
    "       'tip_amount', 'tolls_amount', 'improvement_surcharge', 'total_amount',\n",
    "         'tempMax', 'tempMin', 'tempAvg', 'tempDeparture', 'hdd',\n",
    "       'cdd', 'precipitation', 'newSnow', 'snowDepth', 'DayofWeek', 'Weekend',\n",
    "       'Month', 'Hour', 'WorkingHour']]\n",
    "y_train = df[\"duration\"]"
   ],
   "outputs": [],
   "metadata": {}
  },
  {
   "cell_type": "markdown",
   "source": [
    "# Linear Regression Model"
   ],
   "metadata": {}
  },
  {
   "cell_type": "code",
   "execution_count": null,
   "source": [],
   "outputs": [],
   "metadata": {}
  },
  {
   "cell_type": "code",
   "execution_count": 46,
   "source": [
    "fit = ols(formula=\"duration ~ passenger_count + trip_distance + RatecodeID + PULocationID + DOLocationID + payment_type + fare_amount + extra + mta_tax + tip_amount + tolls_amount + improvement_surcharge + total_amount + tempMax + tempMin + tempAvg + tempDeparture + hdd + cdd + precipitation + newSnow + snowDepth + DayofWeek + Weekend + Month + Hour + WorkingHour\",\n",
    "         data=df).fit()"
   ],
   "outputs": [],
   "metadata": {}
  },
  {
   "cell_type": "code",
   "execution_count": 47,
   "source": [
    "print(fit.summary())"
   ],
   "outputs": [
    {
     "output_type": "stream",
     "name": "stdout",
     "text": [
      "                            OLS Regression Results                            \n",
      "==============================================================================\n",
      "Dep. Variable:               duration   R-squared:                       0.830\n",
      "Model:                            OLS   Adj. R-squared:                  0.830\n",
      "Method:                 Least Squares   F-statistic:                 5.080e+05\n",
      "Date:                Fri, 13 Aug 2021   Prob (F-statistic):               0.00\n",
      "Time:                        18:21:44   Log-Likelihood:            -8.4372e+06\n",
      "No. Observations:             2808938   AIC:                         1.687e+07\n",
      "Df Residuals:                 2808910   BIC:                         1.687e+07\n",
      "Df Model:                          27                                         \n",
      "Covariance Type:            nonrobust                                         \n",
      "=========================================================================================\n",
      "                            coef    std err          t      P>|t|      [0.025      0.975]\n",
      "-----------------------------------------------------------------------------------------\n",
      "Intercept               -26.2648      1.513    -17.361      0.000     -29.230     -23.300\n",
      "passenger_count           0.0126      0.003      4.966      0.000       0.008       0.018\n",
      "trip_distance            -2.2552      0.003   -796.133      0.000      -2.261      -2.250\n",
      "RatecodeID               -1.7088      0.026    -66.409      0.000      -1.759      -1.658\n",
      "PULocationID             -0.0003   4.48e-05     -7.260      0.000      -0.000      -0.000\n",
      "DOLocationID             -0.0002   4.24e-05     -3.757      0.000      -0.000   -7.61e-05\n",
      "payment_type              0.0050      0.008      0.606      0.544      -0.011       0.021\n",
      "fare_amount               1.7083      0.031     55.232      0.000       1.648       1.769\n",
      "extra                     0.7317      0.032     23.127      0.000       0.670       0.794\n",
      "mta_tax                  -0.7969      0.586     -1.360      0.174      -1.945       0.351\n",
      "tip_amount               -0.1351      0.031     -4.360      0.000      -0.196      -0.074\n",
      "tolls_amount             -0.4051      0.031    -13.060      0.000      -0.466      -0.344\n",
      "improvement_surcharge    -0.0843      0.031     -2.726      0.006      -0.145      -0.024\n",
      "total_amount              0.0862      0.031      2.789      0.005       0.026       0.147\n",
      "tempMax                   0.4487      0.043     10.456      0.000       0.365       0.533\n",
      "tempMin                   0.4501      0.043     10.486      0.000       0.366       0.534\n",
      "tempAvg                  -0.5380      0.085     -6.330      0.000      -0.705      -0.371\n",
      "tempDeparture            -0.0003      0.000     -0.520      0.603      -0.001       0.001\n",
      "hdd                       0.3541      0.023     15.460      0.000       0.309       0.399\n",
      "cdd                      -0.3819      0.023    -16.672      0.000      -0.427      -0.337\n",
      "precipitation             0.1304      0.009     14.803      0.000       0.113       0.148\n",
      "newSnow                  -0.0395      0.005     -8.205      0.000      -0.049      -0.030\n",
      "snowDepth                 0.0071      0.003      2.181      0.029       0.001       0.013\n",
      "DayofWeek                 0.2300      0.002     93.038      0.000       0.225       0.235\n",
      "Weekend                   0.6428      0.012     53.843      0.000       0.619       0.666\n",
      "Month                     0.0349      0.001     36.482      0.000       0.033       0.037\n",
      "Hour                      0.0335      0.001     66.688      0.000       0.033       0.035\n",
      "WorkingHour               1.9459      0.008    253.284      0.000       1.931       1.961\n",
      "==============================================================================\n",
      "Omnibus:                  6326783.322   Durbin-Watson:                   1.632\n",
      "Prob(Omnibus):                  0.000   Jarque-Bera (JB):     329709681284.928\n",
      "Skew:                          20.475   Prob(JB):                         0.00\n",
      "Kurtosis:                    1680.919   Cond. No.                     1.34e+05\n",
      "==============================================================================\n",
      "\n",
      "Notes:\n",
      "[1] Standard Errors assume that the covariance matrix of the errors is correctly specified.\n",
      "[2] The condition number is large, 1.34e+05. This might indicate that there are\n",
      "strong multicollinearity or other numerical problems.\n"
     ]
    }
   ],
   "metadata": {}
  },
  {
   "cell_type": "markdown",
   "source": [
    "# Predict new instance"
   ],
   "metadata": {}
  },
  {
   "cell_type": "code",
   "execution_count": 3,
   "source": [
    "test = pd.read_csv(\"/home/trungdc/unimelb/MAST30024/asm/mast30034_2021_s2_project_1-alexdang02-1/Data/Model/test1.csv\")\n",
    "test.head()\n",
    "\n",
    "columns  =['passenger_count', 'trip_distance', 'RatecodeID', 'PULocationID',\n",
    "       'DOLocationID', 'payment_type', 'fare_amount', 'extra', 'mta_tax',\n",
    "       'tip_amount', 'tolls_amount', 'improvement_surcharge', 'total_amount',\n",
    "         'tempMax', 'tempMin', 'tempAvg', 'tempDeparture', 'hdd',\n",
    "       'cdd', 'precipitation', 'newSnow', 'snowDepth', 'DayofWeek', 'Weekend',\n",
    "       'Month', 'Hour', 'WorkingHour']\n",
    "y_test = list(test[\"duration\"].values)\n",
    "x_test = test[columns]"
   ],
   "outputs": [],
   "metadata": {}
  },
  {
   "cell_type": "code",
   "execution_count": 49,
   "source": [
    "y_predict = list(fit.predict(x_test).values)\n",
    "for value in y_predict:\n",
    "    if value < 0:\n",
    "        index = y_predict.index(value)\n",
    "        y_predict[index] = 0"
   ],
   "outputs": [],
   "metadata": {}
  },
  {
   "cell_type": "code",
   "execution_count": 50,
   "source": [
    "# Linear Regression model with Statmodel\n",
    "from sklearn.metrics import mean_squared_log_error\n",
    "print(mean_squared_log_error(y_test, y_predict))"
   ],
   "outputs": [
    {
     "output_type": "stream",
     "name": "stdout",
     "text": [
      "0.04909016608833464\n"
     ]
    }
   ],
   "metadata": {}
  }
 ],
 "metadata": {
  "kernelspec": {
   "name": "python3",
   "display_name": "Python 3.7.11 64-bit ('mast30024asm1': conda)"
  },
  "language_info": {
   "codemirror_mode": {
    "name": "ipython",
    "version": 3
   },
   "file_extension": ".py",
   "mimetype": "text/x-python",
   "name": "python",
   "nbconvert_exporter": "python",
   "pygments_lexer": "ipython3",
   "version": "3.7.11"
  },
  "latex_envs": {
   "LaTeX_envs_menu_present": true,
   "autoclose": false,
   "autocomplete": true,
   "bibliofile": "biblio.bib",
   "cite_by": "apalike",
   "current_citInitial": 1,
   "eqLabelWithNumbers": true,
   "eqNumInitial": 1,
   "hotkeys": {
    "equation": "Ctrl-E",
    "itemize": "Ctrl-I"
   },
   "labels_anchors": false,
   "latex_user_defs": false,
   "report_style_numbering": false,
   "user_envs_cfg": false
  },
  "toc": {
   "base_numbering": 1,
   "nav_menu": {},
   "number_sections": true,
   "sideBar": true,
   "skip_h1_title": false,
   "title_cell": "Table of Contents",
   "title_sidebar": "Contents",
   "toc_cell": false,
   "toc_position": {},
   "toc_section_display": true,
   "toc_window_display": false
  },
  "varInspector": {
   "cols": {
    "lenName": 16,
    "lenType": 16,
    "lenVar": 40
   },
   "kernels_config": {
    "python": {
     "delete_cmd_postfix": "",
     "delete_cmd_prefix": "del ",
     "library": "var_list.py",
     "varRefreshCmd": "print(var_dic_list())"
    },
    "r": {
     "delete_cmd_postfix": ") ",
     "delete_cmd_prefix": "rm(",
     "library": "var_list.r",
     "varRefreshCmd": "cat(var_dic_list()) "
    }
   },
   "types_to_exclude": [
    "module",
    "function",
    "builtin_function_or_method",
    "instance",
    "_Feature"
   ],
   "window_display": false
  },
  "interpreter": {
   "hash": "3ee96da6bb92bbf5b9d339a3dfb1419b22df50abca65b46f31ce3f2043457e99"
  }
 },
 "nbformat": 4,
 "nbformat_minor": 4
}